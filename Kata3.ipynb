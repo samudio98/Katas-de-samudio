{
 "cells": [
  {
   "cell_type": "markdown",
   "metadata": {},
   "source": [
    "## kata 3\n",
    "## problema 1, si un asteroide"
   ]
  },
  {
   "cell_type": "code",
   "execution_count": 3,
   "metadata": {},
   "outputs": [
    {
     "name": "stdout",
     "output_type": "stream",
     "text": [
      "¡Sigue con tu día\n"
     ]
    }
   ],
   "source": [
    "asteroide=15\n",
    "if asteroide>25:\n",
    "    print('¡Alerta! ¡Un asteroide se acerca a velocidades peligrosas!')\n",
    "else:\n",
    "    print('¡Sigue con tu día')"
   ]
  },
  {
   "cell_type": "markdown",
   "metadata": {},
   "source": [
    "## problema 2\n",
    "## alertar de que busquen un asteroide en el cielo"
   ]
  },
  {
   "cell_type": "code",
   "execution_count": 7,
   "metadata": {},
   "outputs": [
    {
     "name": "stdout",
     "output_type": "stream",
     "text": [
      "¡Vamos a vivir!\n"
     ]
    }
   ],
   "source": [
    "asteroide=19\n",
    "if asteroide>20:\n",
    "    print('Nos vamos a morir! ¡Hay un asteroide en el cielo!')\n",
    "elif asteroide==20:\n",
    "    print('Nos vamos a morir! ¡Hay un asteroide en el cielo!')\n",
    "else:\n",
    "    print('¡Vamos a vivir!')"
   ]
  },
  {
   "cell_type": "markdown",
   "metadata": {},
   "source": [
    "## Problema 3"
   ]
  },
  {
   "cell_type": "code",
   "execution_count": 8,
   "metadata": {},
   "outputs": [
    {
     "name": "stdout",
     "output_type": "stream",
     "text": [
      "Nos vamos a morir! ¡Hay un asteroide en el cielo!\n"
     ]
    }
   ],
   "source": [
    "velocidad_asteroide=25\n",
    "tamaño_asteroide=40\n",
    "if velocidad_asteroide>25 and tamaño_asteroide>25:\n",
    "    print('Alerta, ¡Hay un asteroide que viene en camino!')\n",
    "elif velocidad_asteroide>=20:\n",
    "    print('Nos vamos a morir! ¡Hay un asteroide en el cielo!')\n",
    "elif tamaño_asteroide<25:\n",
    "    print('Nada que ver aquí XD')\n",
    "else:\n",
    "    print('Nada que ver aquí XD')"
   ]
  }
 ],
 "metadata": {
  "interpreter": {
   "hash": "0e3e587ed1ce359834a8d379339d793f785a4f3c8ea7bc77551e1dff1044a57a"
  },
  "kernelspec": {
   "display_name": "Python 3.9.7 64-bit",
   "language": "python",
   "name": "python3"
  },
  "language_info": {
   "codemirror_mode": {
    "name": "ipython",
    "version": 3
   },
   "file_extension": ".py",
   "mimetype": "text/x-python",
   "name": "python",
   "nbconvert_exporter": "python",
   "pygments_lexer": "ipython3",
   "version": "3.9.7"
  },
  "orig_nbformat": 4
 },
 "nbformat": 4,
 "nbformat_minor": 2
}
